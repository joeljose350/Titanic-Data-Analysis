{
 "cells": [
  {
   "cell_type": "markdown",
   "source": [
    "# Titanic Data Analysis"
   ],
   "metadata": {}
  },
  {
   "cell_type": "markdown",
   "source": [
    "## This notebook is used for analysing passenger data of the RMS Titanic, which unfortunately sank in the North Atlantic Ocean during its maiden voyage on 15 April 1912."
   ],
   "metadata": {}
  },
  {
   "cell_type": "markdown",
   "source": [
    "### Import necessary packages and the dataset"
   ],
   "metadata": {}
  },
  {
   "cell_type": "code",
   "execution_count": null,
   "source": [
    "import pandas as pd\r\n",
    "import matplotlib.pyplot as plt\r\n",
    "\r\n",
    "titanic = pd.read_csv('../Titanic.csv')"
   ],
   "outputs": [],
   "metadata": {}
  },
  {
   "cell_type": "markdown",
   "source": [
    "---"
   ],
   "metadata": {}
  },
  {
   "cell_type": "markdown",
   "source": [
    "## 1) Average price of a ticket categorised by the gender and age of the passengers."
   ],
   "metadata": {}
  },
  {
   "cell_type": "markdown",
   "source": [
    "### Create a function to round off numbers to the nearest 10."
   ],
   "metadata": {}
  },
  {
   "cell_type": "code",
   "execution_count": null,
   "source": [
    "def round_10(num):\r\n",
    "\tif num % 10 < 5:\r\n",
    "\t\treturn int(num // 10) * 10\r\n",
    "\telse:\r\n",
    "\t\treturn int(num // 10 + 1) * 10"
   ],
   "outputs": [],
   "metadata": {}
  },
  {
   "cell_type": "markdown",
   "source": [
    "### Create the **age_fare** DataFrame by taking the columns *[Sex, Age, Fare]* from the **titanic** DataFrame."
   ],
   "metadata": {}
  },
  {
   "cell_type": "code",
   "execution_count": null,
   "source": [
    "age_fare = titanic[\r\n",
    "\t['Sex', 'Age', 'Fare']\r\n",
    "].dropna()"
   ],
   "outputs": [],
   "metadata": {}
  },
  {
   "cell_type": "markdown",
   "source": [
    "### Round off the age values to the nearest 10 (using the function defined previously) and update the *[Age]* column of the **age_fare** DataFrame."
   ],
   "metadata": {}
  },
  {
   "cell_type": "code",
   "execution_count": null,
   "source": [
    "age_fare['Age'] = age_fare['Age'].round(0).apply(round_10)"
   ],
   "outputs": [],
   "metadata": {}
  },
  {
   "cell_type": "markdown",
   "source": [
    "### Group the **age_fare** DataFrame by *[Age, Sex]*, calculate the average fare to 2 decimal places and update the *[Fare]* column."
   ],
   "metadata": {}
  },
  {
   "cell_type": "code",
   "execution_count": null,
   "source": [
    "age_fare = age_fare.groupby(['Age', 'Sex']).mean().round(2)"
   ],
   "outputs": [],
   "metadata": {}
  },
  {
   "cell_type": "markdown",
   "source": [
    "### Rename the index columns and indices to more appropriate names."
   ],
   "metadata": {}
  },
  {
   "cell_type": "code",
   "execution_count": null,
   "source": [
    "age_fare.index.names = ['Age', 'Gender']\r\n",
    "\r\n",
    "age_fare.rename(\r\n",
    "\tindex={\r\n",
    "\t\t'male': 'Male',\r\n",
    "\t\t'female': 'Female'\r\n",
    "\t},\r\n",
    "\tinplace=True\r\n",
    ")"
   ],
   "outputs": [],
   "metadata": {}
  },
  {
   "cell_type": "markdown",
   "source": [
    "### Plot the **age_fare** DataFrame as a bar graph."
   ],
   "metadata": {}
  },
  {
   "cell_type": "code",
   "execution_count": null,
   "source": [
    "figure = age_fare.unstack().plot(\r\n",
    "\ttitle='Average fare by gender and age',\r\n",
    "\tylabel='Fare (in USD)',\r\n",
    "\ty='Fare',\r\n",
    "\tkind='bar',\r\n",
    "\trot=0\r\n",
    ")"
   ],
   "outputs": [],
   "metadata": {}
  },
  {
   "cell_type": "markdown",
   "source": [
    "### Analysis\r\n",
    "\r\n",
    "Women between the ages of **20** and **60** (rounded off to the nearest 10) paid more for their tickets on average than men of the same age.\r\n",
    "\r\n",
    "![Age-Fare Graph](../graphs/age_fare.png)"
   ],
   "metadata": {}
  },
  {
   "cell_type": "markdown",
   "source": [
    "---"
   ],
   "metadata": {}
  },
  {
   "cell_type": "markdown",
   "source": [
    "## 2) Average price of ticket categorised by the gender of the passengers and the classes of seats on the ship."
   ],
   "metadata": {}
  },
  {
   "cell_type": "markdown",
   "source": [
    "### Create the **fare_gender** DataFrame by taking the *[Fare, Sex, Pclass]* columns from the **titanic** DataFrame and grouping them by *[Sex, Pclass]*.\r\n",
    "\r\n",
    "### Also calculate the average of the *[Fare]* column to 2 decimal places and add it as a column to the **fare_gender** DataFrame. "
   ],
   "metadata": {}
  },
  {
   "cell_type": "code",
   "execution_count": null,
   "source": [
    "fare_gender = titanic[\r\n",
    "\t['Fare', 'Sex', 'Pclass']\r\n",
    "].dropna().groupby(['Sex', 'Pclass']).mean().round(2)"
   ],
   "outputs": [],
   "metadata": {}
  },
  {
   "cell_type": "markdown",
   "source": [
    "### Rename the index columns and indices to more appropriate names."
   ],
   "metadata": {}
  },
  {
   "cell_type": "code",
   "execution_count": null,
   "source": [
    "fare_gender.index.names = ['Gender', 'Passenger Class']\r\n",
    "\r\n",
    "fare_gender.rename(\r\n",
    "\tindex={\r\n",
    "\t\t'female': 'Female',\r\n",
    "\t\t'male': 'Male',\r\n",
    "\t\t1: 'First',\r\n",
    "\t\t2: 'Second',\r\n",
    "\t\t3: 'Third'\r\n",
    "\t},\r\n",
    "\tinplace=True\r\n",
    ")"
   ],
   "outputs": [],
   "metadata": {}
  },
  {
   "cell_type": "markdown",
   "source": [
    "### Plot the **fare_gender** DataFrame as a bar graph."
   ],
   "metadata": {}
  },
  {
   "cell_type": "code",
   "execution_count": null,
   "source": [
    "figure = fare_gender.unstack().plot(\r\n",
    "\ttitle='Average fare by gender and passenger class',\r\n",
    "\tylabel='Fare (in USD)',\r\n",
    "\ty='Fare',\r\n",
    "\tkind='bar',\r\n",
    "\trot=0\r\n",
    ")"
   ],
   "outputs": [],
   "metadata": {}
  },
  {
   "cell_type": "markdown",
   "source": [
    "### Add labels to each bar in the graph."
   ],
   "metadata": {}
  },
  {
   "cell_type": "code",
   "execution_count": null,
   "source": [
    "for container in figure.containers:\r\n",
    "\tfigure.bar_label(container)"
   ],
   "outputs": [],
   "metadata": {}
  },
  {
   "cell_type": "markdown",
   "source": [
    "### Analysis\r\n",
    "\r\n",
    "- In **First** Class, the average price of a ticket for women was **$38.9** more than men.\r\n",
    "\r\n",
    "- In **Second** and **Third** Class, the average price of a ticket was around the same for both men and women.\r\n",
    "\r\n",
    "![Fare-Gender Graph](../graphs/fare_gender.png)"
   ],
   "metadata": {}
  },
  {
   "cell_type": "markdown",
   "source": [
    "---"
   ],
   "metadata": {}
  },
  {
   "cell_type": "markdown",
   "source": [
    "## 3) Number of people boarding from each city categorised by the gender of the passengers."
   ],
   "metadata": {}
  },
  {
   "cell_type": "markdown",
   "source": [
    "### Take the columns *[Embarked, Sex]* from the **titanic** DataFrame, group it by *[Embarked, Sex]* and compute the size.\r\n",
    "\r\n",
    "### Store the resultant Series in a dictionary with the key **Count** and convert this dictionary to a DataFrame called **gender_embark**."
   ],
   "metadata": {}
  },
  {
   "cell_type": "code",
   "execution_count": null,
   "source": [
    "gender_embark = pd.DataFrame(\r\n",
    "\t{\r\n",
    "\t\t'Count': titanic[\r\n",
    "\t\t\t['Embarked', 'Sex']\r\n",
    "\t\t].dropna().groupby(\r\n",
    "\t\t\t['Embarked', 'Sex']\r\n",
    "\t\t).size()\r\n",
    "\t}\r\n",
    ")"
   ],
   "outputs": [],
   "metadata": {}
  },
  {
   "cell_type": "markdown",
   "source": [
    "### Rename the index columns and indices to more appropriate names."
   ],
   "metadata": {}
  },
  {
   "cell_type": "code",
   "execution_count": null,
   "source": [
    "gender_embark.index.names = ['City', 'Gender']\r\n",
    "\r\n",
    "gender_embark.rename(\r\n",
    "\tindex={\r\n",
    "\t\t'C': 'Cherbourg',\r\n",
    "\t\t'Q': 'Queenstown (Cobh)',\r\n",
    "\t\t'S': 'Southampton',\r\n",
    "\t\t'female': 'Female',\r\n",
    "\t\t'male': 'Male'\r\n",
    "\t},\r\n",
    "\tinplace=True\r\n",
    ")"
   ],
   "outputs": [],
   "metadata": {}
  },
  {
   "cell_type": "markdown",
   "source": [
    "### Plot the **gender_embark** DataFrame as a bar graph."
   ],
   "metadata": {}
  },
  {
   "cell_type": "code",
   "execution_count": null,
   "source": [
    "figure = gender_embark.unstack().plot(\r\n",
    "\ttitle='Number of people boarding from each city by gender',\r\n",
    "\tylabel='Number of people',\r\n",
    "\ty='Count',\r\n",
    "\tkind='bar',\r\n",
    "\trot=0\r\n",
    ")"
   ],
   "outputs": [],
   "metadata": {}
  },
  {
   "cell_type": "markdown",
   "source": [
    "### Add labels to each bar in the graph."
   ],
   "metadata": {}
  },
  {
   "cell_type": "code",
   "execution_count": null,
   "source": [
    "for container in figure.containers:\r\n",
    "\tfigure.bar_label(container)"
   ],
   "outputs": [],
   "metadata": {}
  },
  {
   "cell_type": "markdown",
   "source": [
    "### Analysis\r\n",
    "\r\n",
    "- In **Cherbourg** and **Queenstown (Cobh)**, the number of male and female passengers were almost the same.\r\n",
    "\r\n",
    "- In **Southampton**, there were **238** more male passengers than female passengers.\r\n",
    "\r\n",
    "![Gender-Embark Graph](../graphs/gender_embark.png)"
   ],
   "metadata": {}
  },
  {
   "cell_type": "markdown",
   "source": [
    "---"
   ],
   "metadata": {}
  },
  {
   "cell_type": "markdown",
   "source": [
    "## 4) Number of survivors categorised by the gender of the passengers and classes of seats on the ship."
   ],
   "metadata": {}
  },
  {
   "cell_type": "markdown",
   "source": [
    "### Create the **survivors_class** DataFrame by taking the *[Sex, Pclass, 'Survived]* columns from the **titanic** DataFrame and grouping them by *[Pclass, Sex]*.\r\n",
    "\r\n",
    "### Also calculate the average of the *[Survived]* column to 4 decimal places, multiply it by 100 to convert the values into percentages and add it as a column to the **fare_gender** DataFrame. "
   ],
   "metadata": {}
  },
  {
   "cell_type": "code",
   "execution_count": null,
   "source": [
    "survivors_class = titanic[\r\n",
    "\t['Sex', 'Pclass', 'Survived']\r\n",
    "].dropna().groupby(\r\n",
    "\t['Pclass', 'Sex']\r\n",
    ").mean().round(4) * 100"
   ],
   "outputs": [],
   "metadata": {}
  },
  {
   "cell_type": "markdown",
   "source": [
    "### Rename the index columns, columns and indices to more appropriate names."
   ],
   "metadata": {}
  },
  {
   "cell_type": "code",
   "execution_count": null,
   "source": [
    "survivors_class.index.names = ['Passenger Class', 'Gender']\r\n",
    "\r\n",
    "survivors_class.rename(\r\n",
    "\tcolumns={\r\n",
    "\t\t'Survived': 'Survived (in %)'\r\n",
    "\t},\r\n",
    "\tindex={\r\n",
    "\t\t'female': 'Female',\r\n",
    "\t\t'male': 'Male',\r\n",
    "\t\t1: 'First',\r\n",
    "\t\t2: 'Second',\r\n",
    "\t\t3: 'Third'\r\n",
    "\t},\r\n",
    "\tinplace=True\r\n",
    ")"
   ],
   "outputs": [],
   "metadata": {}
  },
  {
   "cell_type": "markdown",
   "source": [
    "### Plot the **survivors_class** DataFrame as a bar graph."
   ],
   "metadata": {}
  },
  {
   "cell_type": "code",
   "execution_count": null,
   "source": [
    "figure = survivors_class.unstack().plot(\r\n",
    "\ttitle='Survivors by gender and class',\r\n",
    "\txlabel='Passenger class',\r\n",
    "\tylabel='Survived (in %)',\r\n",
    "\ty='Survived (in %)',\r\n",
    "\tkind='bar',\r\n",
    "\trot=0\r\n",
    ")"
   ],
   "outputs": [],
   "metadata": {}
  },
  {
   "cell_type": "markdown",
   "source": [
    "### Add labels to each bar in the graph."
   ],
   "metadata": {}
  },
  {
   "cell_type": "code",
   "execution_count": null,
   "source": [
    "for container in figure.containers:\r\n",
    "\tfigure.bar_label(container)"
   ],
   "outputs": [],
   "metadata": {}
  },
  {
   "cell_type": "markdown",
   "source": [
    "### Analysis\r\n",
    "\r\n",
    "- In **First** Class, **96.81%** of women and **36.89%** of men survived the accident.\r\n",
    "\r\n",
    "- In **Second** Class, **92.11%** of women and **15.74%** of men survived the accident.\r\n",
    "\r\n",
    "- In **Third** Class, **50%** of women and **13.54%** of men survived the accident.\r\n",
    "\r\n",
    "![Survivors-Class Graph](../graphs/survivors_class.png)"
   ],
   "metadata": {}
  }
 ],
 "metadata": {
  "orig_nbformat": 4,
  "language_info": {
   "name": "python",
   "version": "3.9.6",
   "mimetype": "text/x-python",
   "codemirror_mode": {
    "name": "ipython",
    "version": 3
   },
   "pygments_lexer": "ipython3",
   "nbconvert_exporter": "python",
   "file_extension": ".py"
  },
  "kernelspec": {
   "name": "python3",
   "display_name": "Python 3.9.6 64-bit"
  },
  "interpreter": {
   "hash": "ac59ebe37160ed0dfa835113d9b8498d9f09ceb179beaac4002f036b9467c963"
  }
 },
 "nbformat": 4,
 "nbformat_minor": 2
}